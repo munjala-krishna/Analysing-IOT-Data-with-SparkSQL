{
 "cells": [
  {
   "cell_type": "code",
   "execution_count": 1,
   "id": "0fb32f76",
   "metadata": {},
   "outputs": [
    {
     "name": "stderr",
     "output_type": "stream",
     "text": [
      "Setting default log level to \"WARN\".\n",
      "To adjust logging level use sc.setLogLevel(newLevel). For SparkR, use setLogLevel(newLevel).\n"
     ]
    },
    {
     "name": "stdout",
     "output_type": "stream",
     "text": [
      "23/12/15 12:38:05 WARN NativeCodeLoader: Unable to load native-hadoop library for your platform... using builtin-java classes where applicable\n"
     ]
    }
   ],
   "source": [
    "import findspark\n",
    "findspark.init()\n",
    "import pyspark\n",
    "sc = pyspark.SparkContext()\n",
    "from pyspark.sql import SparkSession\n",
    "spark = SparkSession.builder.getOrCreate()"
   ]
  },
  {
   "cell_type": "markdown",
   "id": "aa5aea53",
   "metadata": {},
   "source": [
    "# 1. Reading the data into a Dataframe"
   ]
  },
  {
   "cell_type": "code",
   "execution_count": 2,
   "id": "9301474f",
   "metadata": {},
   "outputs": [
    {
     "name": "stderr",
     "output_type": "stream",
     "text": [
      "                                                                                \r"
     ]
    },
    {
     "name": "stdout",
     "output_type": "stream",
     "text": [
      "+-------------+---------+----+----+-------------+---------+--------------------+--------+---------------+--------+------+---------+-------+----+-------------+\n",
      "|battery_level|c02_level|cca2|cca3|           cn|device_id|         device_name|humidity|             ip|latitude|   lcd|longitude|  scale|temp|    timestamp|\n",
      "+-------------+---------+----+----+-------------+---------+--------------------+--------+---------------+--------+------+---------+-------+----+-------------+\n",
      "|            8|      868|  US| USA|United States|        1|meter-gauge-1xbYRYcj|      51|   68.161.225.1|    38.0| green|    -97.0|Celsius|  34|1458444054093|\n",
      "|            7|     1473|  NO| NOR|       Norway|        2|   sensor-pad-2n2Pea|      70|  213.161.254.1|   62.47|   red|     6.15|Celsius|  11|1458444054119|\n",
      "|            2|     1556|  IT| ITA|        Italy|        3| device-mac-36TWSKiT|      44|      88.36.5.1|   42.83|   red|    12.83|Celsius|  19|1458444054120|\n",
      "|            6|     1080|  US| USA|United States|        4|   sensor-pad-4mzWkz|      32|  66.39.173.154|   44.06|yellow|  -121.32|Celsius|  28|1458444054121|\n",
      "|            4|      931|  PH| PHL|  Philippines|        5|therm-stick-5gimp...|      62|    203.82.41.9|   14.58| green|   120.97|Celsius|  25|1458444054122|\n",
      "|            3|     1210|  US| USA|United States|        6|sensor-pad-6al7RT...|      51| 204.116.105.67|   35.93|yellow|   -85.46|Celsius|  27|1458444054122|\n",
      "|            3|     1129|  CN| CHN|        China|        7|meter-gauge-7GeDoanM|      26|  220.173.179.1|   22.82|yellow|   108.32|Celsius|  18|1458444054123|\n",
      "|            0|     1536|  JP| JPN|        Japan|        8|sensor-pad-8xUD6p...|      35|  210.173.177.1|   35.69|   red|   139.69|Celsius|  27|1458444054123|\n",
      "|            3|      807|  JP| JPN|        Japan|        9| device-mac-9GcjZ2pw|      85|  118.23.68.227|   35.69| green|   139.69|Celsius|  13|1458444054124|\n",
      "|            7|     1470|  US| USA|United States|       10|sensor-pad-10Bsyw...|      56|208.109.163.218|   33.61|   red|  -111.89|Celsius|  26|1458444054125|\n",
      "|            3|     1544|  IT| ITA|        Italy|       11|meter-gauge-11dlM...|      85|  88.213.191.34|   42.83|   red|    12.83|Celsius|  16|1458444054125|\n",
      "|            0|     1260|  US| USA|United States|       12|sensor-pad-12Y2kIm0o|      92|    68.28.91.22|    38.0|yellow|    -97.0|Celsius|  12|1458444054126|\n",
      "|            6|     1007|  IN| IND|        India|       13|meter-gauge-13Gro...|      92| 59.144.114.250|    28.6|yellow|     77.2|Celsius|  13|1458444054127|\n",
      "|            1|     1346|  NO| NOR|       Norway|       14|sensor-pad-14QL93...|      90| 193.156.90.200|   59.95|yellow|    10.75|Celsius|  16|1458444054127|\n",
      "|            9|     1259|  US| USA|United States|       15|  device-mac-15se6mZ|      70|    67.185.72.1|   47.41|yellow|   -122.0|Celsius|  13|1458444054128|\n",
      "|            4|     1425|  US| USA|United States|       16|sensor-pad-16aXmI...|      53|   68.85.85.106|    38.0|   red|    -97.0|Celsius|  15|1458444054128|\n",
      "|            0|     1466|  US| USA|United States|       17|meter-gauge-17zb8...|      98|161.188.212.254|   39.95|   red|   -75.16|Celsius|  31|1458444054129|\n",
      "|            4|     1096|  CN| CHN|        China|       18|sensor-pad-18XULN9Xv|      25|  221.3.128.242|   25.04|yellow|   102.72|Celsius|  31|1458444054130|\n",
      "|            9|     1531|  US| USA|United States|       19|meter-gauge-19eg1...|      75| 64.124.180.215|    38.0|   red|    -97.0|Celsius|  29|1458444054130|\n",
      "|            7|     1155|  US| USA|United States|       20|sensor-pad-20gFNf...|      33|  66.153.162.66|   33.94|yellow|   -78.92|Celsius|  10|1458444054131|\n",
      "+-------------+---------+----+----+-------------+---------+--------------------+--------+---------------+--------+------+---------+-------+----+-------------+\n",
      "only showing top 20 rows\n",
      "\n"
     ]
    }
   ],
   "source": [
    "df =  spark.read.json(\"/home/ubuntu/iot_devices\")\n",
    "df.show()"
   ]
  },
  {
   "cell_type": "markdown",
   "id": "b166c5a6",
   "metadata": {},
   "source": [
    "# 2. Convert the Dataframe into a temporary view called iot."
   ]
  },
  {
   "cell_type": "code",
   "execution_count": 6,
   "id": "5f4def55",
   "metadata": {},
   "outputs": [
    {
     "name": "stdout",
     "output_type": "stream",
     "text": [
      "+-------------+---------+----+----+-------------+---------+---------------------+--------+---------------+--------+------+---------+-------+----+-------------+\n",
      "|battery_level|c02_level|cca2|cca3|cn           |device_id|device_name          |humidity|ip             |latitude|lcd   |longitude|scale  |temp|timestamp    |\n",
      "+-------------+---------+----+----+-------------+---------+---------------------+--------+---------------+--------+------+---------+-------+----+-------------+\n",
      "|8            |868      |US  |USA |United States|1        |meter-gauge-1xbYRYcj |51      |68.161.225.1   |38.0    |green |-97.0    |Celsius|34  |1458444054093|\n",
      "|7            |1473     |NO  |NOR |Norway       |2        |sensor-pad-2n2Pea    |70      |213.161.254.1  |62.47   |red   |6.15     |Celsius|11  |1458444054119|\n",
      "|2            |1556     |IT  |ITA |Italy        |3        |device-mac-36TWSKiT  |44      |88.36.5.1      |42.83   |red   |12.83    |Celsius|19  |1458444054120|\n",
      "|6            |1080     |US  |USA |United States|4        |sensor-pad-4mzWkz    |32      |66.39.173.154  |44.06   |yellow|-121.32  |Celsius|28  |1458444054121|\n",
      "|4            |931      |PH  |PHL |Philippines  |5        |therm-stick-5gimpUrBB|62      |203.82.41.9    |14.58   |green |120.97   |Celsius|25  |1458444054122|\n",
      "|3            |1210     |US  |USA |United States|6        |sensor-pad-6al7RTAobR|51      |204.116.105.67 |35.93   |yellow|-85.46   |Celsius|27  |1458444054122|\n",
      "|3            |1129     |CN  |CHN |China        |7        |meter-gauge-7GeDoanM |26      |220.173.179.1  |22.82   |yellow|108.32   |Celsius|18  |1458444054123|\n",
      "|0            |1536     |JP  |JPN |Japan        |8        |sensor-pad-8xUD6pzsQI|35      |210.173.177.1  |35.69   |red   |139.69   |Celsius|27  |1458444054123|\n",
      "|3            |807      |JP  |JPN |Japan        |9        |device-mac-9GcjZ2pw  |85      |118.23.68.227  |35.69   |green |139.69   |Celsius|13  |1458444054124|\n",
      "|7            |1470     |US  |USA |United States|10       |sensor-pad-10BsywSYUF|56      |208.109.163.218|33.61   |red   |-111.89  |Celsius|26  |1458444054125|\n",
      "+-------------+---------+----+----+-------------+---------+---------------------+--------+---------------+--------+------+---------+-------+----+-------------+\n",
      "only showing top 10 rows\n",
      "\n"
     ]
    }
   ],
   "source": [
    "df.createOrReplaceTempView('iot')\n",
    "spark.sql(\"select * from iot\").show(10, False)"
   ]
  },
  {
   "cell_type": "markdown",
   "id": "290d5d37",
   "metadata": {},
   "source": [
    "# 3. Count how many devices are there from each country and display the output."
   ]
  },
  {
   "cell_type": "code",
   "execution_count": 40,
   "id": "a4719037",
   "metadata": {},
   "outputs": [
    {
     "name": "stdout",
     "output_type": "stream",
     "text": [
      "+--------------------+----------------+\n",
      "|                  cn|count(device_id)|\n",
      "+--------------------+----------------+\n",
      "|                    |            1810|\n",
      "|         Afghanistan|              19|\n",
      "|             Albania|              32|\n",
      "|             Algeria|              34|\n",
      "|      American Samoa|               3|\n",
      "|             Andorra|               4|\n",
      "|              Angola|              28|\n",
      "|            Anguilla|               7|\n",
      "| Antigua and Barbuda|              60|\n",
      "|           Argentina|             978|\n",
      "|             Armenia|              34|\n",
      "|               Aruba|               8|\n",
      "|           Australia|            3119|\n",
      "|             Austria|            1462|\n",
      "|          Azerbaijan|              49|\n",
      "|             Bahamas|              18|\n",
      "|             Bahrain|              55|\n",
      "|          Bangladesh|             153|\n",
      "|            Barbados|              38|\n",
      "|             Belarus|             123|\n",
      "|             Belgium|             666|\n",
      "|              Belize|              13|\n",
      "|               Benin|               3|\n",
      "|             Bermuda|              53|\n",
      "|              Bhutan|               8|\n",
      "|             Bolivia|             108|\n",
      "|Bosnia and Herzeg...|             106|\n",
      "|            Botswana|              12|\n",
      "|              Brazil|            3224|\n",
      "|British Indian Oc...|               2|\n",
      "+--------------------+----------------+\n",
      "only showing top 30 rows\n",
      "\n"
     ]
    }
   ],
   "source": [
    "spark.sql(\"select cn, count(device_id) from iot group by cn order by cn\").show(30)"
   ]
  },
  {
   "cell_type": "markdown",
   "id": "a977201f",
   "metadata": {},
   "source": [
    "# 4. Display all the countries whose carbon dioxide level is more than 1400. Sort the output in descending order."
   ]
  },
  {
   "cell_type": "code",
   "execution_count": 41,
   "id": "f6ce7299",
   "metadata": {},
   "outputs": [
    {
     "name": "stdout",
     "output_type": "stream",
     "text": [
      "+-----------------+-------------+\n",
      "|               cn|max_c02_level|\n",
      "+-----------------+-------------+\n",
      "|          Finland|         1599|\n",
      "|         Thailand|         1599|\n",
      "|           Sweden|         1599|\n",
      "|          Ireland|         1599|\n",
      "|             Peru|         1599|\n",
      "|      Philippines|         1599|\n",
      "|    United States|         1599|\n",
      "|           Turkey|         1599|\n",
      "|            China|         1599|\n",
      "|           Russia|         1599|\n",
      "|            India|         1599|\n",
      "|           France|         1599|\n",
      "|          Bolivia|         1599|\n",
      "|        Argentina|         1599|\n",
      "|            Italy|         1599|\n",
      "|Republic of Korea|         1599|\n",
      "|           Norway|         1599|\n",
      "|          Denmark|         1599|\n",
      "|            Spain|         1599|\n",
      "|          Germany|         1599|\n",
      "+-----------------+-------------+\n",
      "only showing top 20 rows\n",
      "\n"
     ]
    }
   ],
   "source": [
    "spark.sql(\"select cn, max(c02_level) as max_c02_level from iot group by cn having max_c02_level > 1400 order by max_c02_level DESC\").show()"
   ]
  },
  {
   "cell_type": "markdown",
   "id": "c1bb6633",
   "metadata": {},
   "source": [
    "# 5. Select all countries' devices with high-levels of C02 and group by cca3 and order by device_ids (Hint: For high CO2 level, the LCD status will be RED)."
   ]
  },
  {
   "cell_type": "code",
   "execution_count": 47,
   "id": "8ec08545",
   "metadata": {},
   "outputs": [
    {
     "name": "stdout",
     "output_type": "stream",
     "text": [
      "+----+----------------------+\n",
      "|cca3|high_c02_devices_count|\n",
      "+----+----------------------+\n",
      "| IOT|                     1|\n",
      "| CIV|                     1|\n",
      "| MHL|                     1|\n",
      "| GIB|                     1|\n",
      "| TLS|                     1|\n",
      "| GGY|                     1|\n",
      "| LBR|                     1|\n",
      "| SLB|                     1|\n",
      "| GAB|                     1|\n",
      "| TJK|                     1|\n",
      "| REU|                     1|\n",
      "| FLK|                     1|\n",
      "| FSM|                     1|\n",
      "| TKM|                     1|\n",
      "| AND|                     1|\n",
      "| ABW|                     2|\n",
      "| VUT|                     2|\n",
      "| LCA|                     2|\n",
      "| GMB|                     2|\n",
      "| VCT|                     2|\n",
      "+----+----------------------+\n",
      "only showing top 20 rows\n",
      "\n"
     ]
    },
    {
     "name": "stderr",
     "output_type": "stream",
     "text": [
      "                                                                                \r"
     ]
    }
   ],
   "source": [
    "spark.sql(\"select cca3, count(device_id) as high_c02_devices_count from iot where lcd='red' group by cca3  order by high_c02_devices_count\").show()"
   ]
  },
  {
   "cell_type": "code",
   "execution_count": 49,
   "id": "ce2b8489",
   "metadata": {},
   "outputs": [
    {
     "name": "stdout",
     "output_type": "stream",
     "text": [
      "+----+---------+\n",
      "|cca3|device_id|\n",
      "+----+---------+\n",
      "| ABW|     3251|\n",
      "| ABW|   196547|\n",
      "| AFG|   122437|\n",
      "| AFG|   131489|\n",
      "| AFG|   136829|\n",
      "| AFG|   172471|\n",
      "| AFG|   191633|\n",
      "| AFG|   197785|\n",
      "| AGO|    24240|\n",
      "| AGO|    30228|\n",
      "| AGO|    33254|\n",
      "| AGO|    40274|\n",
      "| AGO|    65166|\n",
      "| AGO|    86009|\n",
      "| AGO|   166577|\n",
      "| AGO|   187756|\n",
      "| ALA|    37695|\n",
      "| ALA|    64390|\n",
      "| ALA|   104561|\n",
      "| ALA|   162539|\n",
      "+----+---------+\n",
      "only showing top 20 rows\n",
      "\n"
     ]
    },
    {
     "name": "stderr",
     "output_type": "stream",
     "text": [
      "                                                                                \r"
     ]
    }
   ],
   "source": [
    "spark.sql(\"select cca3, device_id from iot where lcd='red' order by cca3, device_id\").show()"
   ]
  },
  {
   "cell_type": "markdown",
   "id": "9b6a24c9",
   "metadata": {},
   "source": [
    "# 6. Find out all devices in countries whose batteries need replacements."
   ]
  },
  {
   "cell_type": "code",
   "execution_count": 22,
   "id": "d786d8ea",
   "metadata": {},
   "outputs": [
    {
     "name": "stderr",
     "output_type": "stream",
     "text": [
      "[Stage 16:>                                                         (0 + 2) / 2]\r"
     ]
    },
    {
     "name": "stdout",
     "output_type": "stream",
     "text": [
      "+-------------+\n",
      "|battery_level|\n",
      "+-------------+\n",
      "|            0|\n",
      "|            7|\n",
      "|            6|\n",
      "|            9|\n",
      "|            5|\n",
      "|            1|\n",
      "|            3|\n",
      "|            8|\n",
      "|            2|\n",
      "|            4|\n",
      "+-------------+\n",
      "\n"
     ]
    },
    {
     "name": "stderr",
     "output_type": "stream",
     "text": [
      "                                                                                \r"
     ]
    }
   ],
   "source": [
    "spark.sql(\"select distinct(battery_level) from iot\").show()"
   ]
  },
  {
   "cell_type": "code",
   "execution_count": 58,
   "id": "6f2ec4a5",
   "metadata": {},
   "outputs": [
    {
     "name": "stdout",
     "output_type": "stream",
     "text": [
      "+-----------------+---------+--------------------+-------------+\n",
      "|               cn|device_id|         device_name|battery_level|\n",
      "+-----------------+---------+--------------------+-------------+\n",
      "|            Japan|        8|sensor-pad-8xUD6p...|            0|\n",
      "|    United States|       12|sensor-pad-12Y2kIm0o|            0|\n",
      "|    United States|       17|meter-gauge-17zb8...|            0|\n",
      "|          Germany|       44| sensor-pad-448DeWGL|            0|\n",
      "|           Canada|       80|sensor-pad-80TY4d...|            0|\n",
      "|Republic of Korea|       92| sensor-pad-92vxuq7e|            0|\n",
      "|    United States|       98|sensor-pad-98mJQA...|            0|\n",
      "|            Japan|      107|meter-gauge-1075K...|            0|\n",
      "|        Australia|      111|device-mac-111WYt...|            0|\n",
      "|    United States|      116| sensor-pad-11663yUf|            0|\n",
      "|            China|      117|device-mac-117mcc...|            0|\n",
      "|    United States|      123|device-mac-123zvY...|            0|\n",
      "|    United States|      131|meter-gauge-131Lb...|            0|\n",
      "|    United States|      134|sensor-pad-1344UG...|            0|\n",
      "|          Germany|      140|sensor-pad-140tq1s6t|            0|\n",
      "|            China|      151|meter-gauge-151Gj...|            0|\n",
      "|            China|      156|sensor-pad-156nfj...|            0|\n",
      "|    United States|      167|meter-gauge-167c4...|            0|\n",
      "|    United States|      179|meter-gauge-1794X...|            0|\n",
      "|     South Africa|      180|sensor-pad-180lj1...|            0|\n",
      "+-----------------+---------+--------------------+-------------+\n",
      "only showing top 20 rows\n",
      "\n"
     ]
    }
   ],
   "source": [
    "spark.sql(\"select cn, device_id, device_name, battery_level from iot where battery_level = 0\").show()"
   ]
  },
  {
   "cell_type": "code",
   "execution_count": null,
   "id": "2688a351",
   "metadata": {},
   "outputs": [],
   "source": []
  },
  {
   "cell_type": "code",
   "execution_count": null,
   "id": "d04d9323",
   "metadata": {},
   "outputs": [],
   "source": []
  }
 ],
 "metadata": {
  "kernelspec": {
   "display_name": "Python 3 (ipykernel)",
   "language": "python",
   "name": "python3"
  },
  "language_info": {
   "codemirror_mode": {
    "name": "ipython",
    "version": 3
   },
   "file_extension": ".py",
   "mimetype": "text/x-python",
   "name": "python",
   "nbconvert_exporter": "python",
   "pygments_lexer": "ipython3",
   "version": "3.10.12"
  }
 },
 "nbformat": 4,
 "nbformat_minor": 5
}
